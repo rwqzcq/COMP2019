{
 "cells": [
  {
   "cell_type": "code",
   "execution_count": 1,
   "metadata": {},
   "outputs": [],
   "source": [
    "import pandas as pd\n",
    "import numpy as np\n",
    "from sklearn.metrics import *"
   ]
  },
  {
   "cell_type": "markdown",
   "metadata": {},
   "source": [
    "# Task 1. Review and Prepare the Dataset"
   ]
  },
  {
   "cell_type": "markdown",
   "metadata": {},
   "source": [
    "## Task 1a) Understand the Data\n",
    "Review the data set to assess distributions of the features and the target and understand \n",
    "the relationships among the features and the target."
   ]
  },
  {
   "cell_type": "code",
   "execution_count": 2,
   "metadata": {},
   "outputs": [
    {
     "data": {
      "text/html": [
       "<div>\n",
       "<style scoped>\n",
       "    .dataframe tbody tr th:only-of-type {\n",
       "        vertical-align: middle;\n",
       "    }\n",
       "\n",
       "    .dataframe tbody tr th {\n",
       "        vertical-align: top;\n",
       "    }\n",
       "\n",
       "    .dataframe thead th {\n",
       "        text-align: right;\n",
       "    }\n",
       "</style>\n",
       "<table border=\"1\" class=\"dataframe\">\n",
       "  <thead>\n",
       "    <tr style=\"text-align: right;\">\n",
       "      <th></th>\n",
       "      <th>Gender</th>\n",
       "      <th>Customer Type</th>\n",
       "      <th>Age</th>\n",
       "      <th>Type of Travel</th>\n",
       "      <th>Class</th>\n",
       "      <th>Flight Distance</th>\n",
       "      <th>Inflight wifi service</th>\n",
       "      <th>Departure/Arrival time convenient</th>\n",
       "      <th>Ease of Online booking</th>\n",
       "      <th>Gate location</th>\n",
       "      <th>...</th>\n",
       "      <th>Baggage handling</th>\n",
       "      <th>Checkin service</th>\n",
       "      <th>Inflight service</th>\n",
       "      <th>Cleanliness</th>\n",
       "      <th>Departure Delay in Minutes</th>\n",
       "      <th>Arrival Delay in Minutes</th>\n",
       "      <th>Order</th>\n",
       "      <th>Comfort</th>\n",
       "      <th>Service</th>\n",
       "      <th>satisfaction</th>\n",
       "    </tr>\n",
       "  </thead>\n",
       "  <tbody>\n",
       "    <tr>\n",
       "      <td>0</td>\n",
       "      <td>0</td>\n",
       "      <td>1</td>\n",
       "      <td>13</td>\n",
       "      <td>0</td>\n",
       "      <td>1</td>\n",
       "      <td>460</td>\n",
       "      <td>3</td>\n",
       "      <td>4</td>\n",
       "      <td>3</td>\n",
       "      <td>1</td>\n",
       "      <td>...</td>\n",
       "      <td>4</td>\n",
       "      <td>4</td>\n",
       "      <td>5</td>\n",
       "      <td>5</td>\n",
       "      <td>25</td>\n",
       "      <td>18</td>\n",
       "      <td>2.75</td>\n",
       "      <td>4.50</td>\n",
       "      <td>4.00</td>\n",
       "      <td>0</td>\n",
       "    </tr>\n",
       "    <tr>\n",
       "      <td>1</td>\n",
       "      <td>0</td>\n",
       "      <td>0</td>\n",
       "      <td>25</td>\n",
       "      <td>1</td>\n",
       "      <td>2</td>\n",
       "      <td>235</td>\n",
       "      <td>3</td>\n",
       "      <td>2</td>\n",
       "      <td>3</td>\n",
       "      <td>3</td>\n",
       "      <td>...</td>\n",
       "      <td>3</td>\n",
       "      <td>1</td>\n",
       "      <td>4</td>\n",
       "      <td>1</td>\n",
       "      <td>1</td>\n",
       "      <td>6</td>\n",
       "      <td>2.75</td>\n",
       "      <td>1.50</td>\n",
       "      <td>3.25</td>\n",
       "      <td>0</td>\n",
       "    </tr>\n",
       "    <tr>\n",
       "      <td>2</td>\n",
       "      <td>1</td>\n",
       "      <td>1</td>\n",
       "      <td>26</td>\n",
       "      <td>1</td>\n",
       "      <td>2</td>\n",
       "      <td>1142</td>\n",
       "      <td>2</td>\n",
       "      <td>2</td>\n",
       "      <td>2</td>\n",
       "      <td>2</td>\n",
       "      <td>...</td>\n",
       "      <td>4</td>\n",
       "      <td>4</td>\n",
       "      <td>4</td>\n",
       "      <td>5</td>\n",
       "      <td>0</td>\n",
       "      <td>0</td>\n",
       "      <td>2.00</td>\n",
       "      <td>5.00</td>\n",
       "      <td>3.75</td>\n",
       "      <td>1</td>\n",
       "    </tr>\n",
       "    <tr>\n",
       "      <td>3</td>\n",
       "      <td>1</td>\n",
       "      <td>1</td>\n",
       "      <td>25</td>\n",
       "      <td>1</td>\n",
       "      <td>2</td>\n",
       "      <td>562</td>\n",
       "      <td>2</td>\n",
       "      <td>5</td>\n",
       "      <td>5</td>\n",
       "      <td>5</td>\n",
       "      <td>...</td>\n",
       "      <td>3</td>\n",
       "      <td>1</td>\n",
       "      <td>4</td>\n",
       "      <td>2</td>\n",
       "      <td>11</td>\n",
       "      <td>9</td>\n",
       "      <td>4.25</td>\n",
       "      <td>2.00</td>\n",
       "      <td>3.50</td>\n",
       "      <td>0</td>\n",
       "    </tr>\n",
       "    <tr>\n",
       "      <td>4</td>\n",
       "      <td>0</td>\n",
       "      <td>1</td>\n",
       "      <td>61</td>\n",
       "      <td>1</td>\n",
       "      <td>2</td>\n",
       "      <td>214</td>\n",
       "      <td>3</td>\n",
       "      <td>3</td>\n",
       "      <td>3</td>\n",
       "      <td>3</td>\n",
       "      <td>...</td>\n",
       "      <td>4</td>\n",
       "      <td>3</td>\n",
       "      <td>3</td>\n",
       "      <td>3</td>\n",
       "      <td>0</td>\n",
       "      <td>0</td>\n",
       "      <td>3.00</td>\n",
       "      <td>4.25</td>\n",
       "      <td>3.50</td>\n",
       "      <td>1</td>\n",
       "    </tr>\n",
       "  </tbody>\n",
       "</table>\n",
       "<p>5 rows × 26 columns</p>\n",
       "</div>"
      ],
      "text/plain": [
       "   Gender  Customer Type  Age  Type of Travel  Class  Flight Distance  \\\n",
       "0       0              1   13               0      1              460   \n",
       "1       0              0   25               1      2              235   \n",
       "2       1              1   26               1      2             1142   \n",
       "3       1              1   25               1      2              562   \n",
       "4       0              1   61               1      2              214   \n",
       "\n",
       "   Inflight wifi service  Departure/Arrival time convenient  \\\n",
       "0                      3                                  4   \n",
       "1                      3                                  2   \n",
       "2                      2                                  2   \n",
       "3                      2                                  5   \n",
       "4                      3                                  3   \n",
       "\n",
       "   Ease of Online booking  Gate location  ...  Baggage handling  \\\n",
       "0                       3              1  ...                 4   \n",
       "1                       3              3  ...                 3   \n",
       "2                       2              2  ...                 4   \n",
       "3                       5              5  ...                 3   \n",
       "4                       3              3  ...                 4   \n",
       "\n",
       "   Checkin service  Inflight service  Cleanliness  Departure Delay in Minutes  \\\n",
       "0                4                 5            5                          25   \n",
       "1                1                 4            1                           1   \n",
       "2                4                 4            5                           0   \n",
       "3                1                 4            2                          11   \n",
       "4                3                 3            3                           0   \n",
       "\n",
       "   Arrival Delay in Minutes  Order  Comfort  Service  satisfaction  \n",
       "0                        18   2.75     4.50     4.00             0  \n",
       "1                         6   2.75     1.50     3.25             0  \n",
       "2                         0   2.00     5.00     3.75             1  \n",
       "3                         9   4.25     2.00     3.50             0  \n",
       "4                         0   3.00     4.25     3.50             1  \n",
       "\n",
       "[5 rows x 26 columns]"
      ]
     },
     "execution_count": 2,
     "metadata": {},
     "output_type": "execute_result"
    }
   ],
   "source": [
    "train_df = pd.read_csv('./airline_dataset/train.csv')\n",
    "test_df = pd.read_csv('./airline_dataset/test.csv')\n",
    "df = pd.concat([train_df, test_df])\n",
    "df.head()"
   ]
  },
  {
   "cell_type": "code",
   "execution_count": 3,
   "metadata": {},
   "outputs": [
    {
     "name": "stdout",
     "output_type": "stream",
     "text": [
      "(129487, 26)\n",
      "(129487, 26)\n"
     ]
    }
   ],
   "source": [
    "print(df.shape)\n",
    "df = df.dropna(how='any')\n",
    "print(df.shape)"
   ]
  },
  {
   "cell_type": "code",
   "execution_count": 5,
   "metadata": {},
   "outputs": [
    {
     "data": {
      "text/plain": [
       "Gender                                 int64\n",
       "Customer Type                          int64\n",
       "Age                                    int64\n",
       "Type of Travel                         int64\n",
       "Class                                  int64\n",
       "Flight Distance                        int64\n",
       "Inflight wifi service                  int64\n",
       "Departure/Arrival time convenient      int64\n",
       "Ease of Online booking                 int64\n",
       "Gate location                          int64\n",
       "Food and drink                         int64\n",
       "Online boarding                        int64\n",
       "Seat comfort                           int64\n",
       "Inflight entertainment                 int64\n",
       "On-board service                       int64\n",
       "Leg room service                       int64\n",
       "Baggage handling                       int64\n",
       "Checkin service                        int64\n",
       "Inflight service                       int64\n",
       "Cleanliness                            int64\n",
       "Departure Delay in Minutes             int64\n",
       "Arrival Delay in Minutes               int64\n",
       "Order                                float64\n",
       "Comfort                              float64\n",
       "Service                              float64\n",
       "satisfaction                           int64\n",
       "dtype: object"
      ]
     },
     "execution_count": 5,
     "metadata": {},
     "output_type": "execute_result"
    }
   ],
   "source": [
    "df.dtypes"
   ]
  },
  {
   "cell_type": "markdown",
   "metadata": {},
   "source": [
    "## Task 1b) Select a Metric\n",
    "Choose a metric that you will use to assess the models.\n",
    "Justify your selection of a metric."
   ]
  },
  {
   "cell_type": "markdown",
   "metadata": {},
   "source": [
    "## Task 1c) Prepare the data sets\n",
    "Partition the data for training and evaluation.\n",
    "\n",
    "Use either a three-way split (train/dev/test) or cross-validation.\n",
    "\n",
    "Justify the approach to partitioning the data."
   ]
  },
  {
   "cell_type": "code",
   "execution_count": 6,
   "metadata": {},
   "outputs": [],
   "source": [
    "from sklearn.model_selection import train_test_split\n",
    "\n",
    "X = df[df.columns.difference(['satisfaction'])].values\n",
    "y = df[['satisfaction']].values.squeeze()"
   ]
  },
  {
   "cell_type": "code",
   "execution_count": 7,
   "metadata": {},
   "outputs": [],
   "source": [
    "X_train, X_test, y_train, y_test = train_test_split(X, y, test_size=0.3)"
   ]
  },
  {
   "cell_type": "code",
   "execution_count": 8,
   "metadata": {},
   "outputs": [],
   "source": [
    "X_test, X_valid, y_test, y_valid = train_test_split(X_test, y_test, test_size=0.5)"
   ]
  },
  {
   "cell_type": "markdown",
   "metadata": {},
   "source": [
    "# Task 2. Train a Logistic Regression Model\n",
    "\n",
    "Train a Logistic Regression Model (LogisticRegression in scikit-learn) that predicts the target.\n",
    "You may need to either normalise the data or increase the model’s hyperparameter \n",
    "max_iter to 2000 to achieve convergence of the optimiser."
   ]
  },
  {
   "cell_type": "code",
   "execution_count": 9,
   "metadata": {},
   "outputs": [],
   "source": [
    "from sklearn.linear_model import LogisticRegression\n",
    "from sklearn.metrics import *"
   ]
  },
  {
   "cell_type": "code",
   "execution_count": 10,
   "metadata": {},
   "outputs": [
    {
     "data": {
      "text/plain": [
       "LogisticRegression(max_iter=2000)"
      ]
     },
     "execution_count": 10,
     "metadata": {},
     "output_type": "execute_result"
    }
   ],
   "source": [
    "clf = LogisticRegression(max_iter=2000)\n",
    "clf.fit(X_train, y_train)"
   ]
  },
  {
   "cell_type": "code",
   "execution_count": 11,
   "metadata": {},
   "outputs": [
    {
     "name": "stdout",
     "output_type": "stream",
     "text": [
      "              precision    recall  f1-score   support\n",
      "\n",
      "           0       0.88      0.90      0.89     10961\n",
      "           1       0.87      0.84      0.85      8462\n",
      "\n",
      "    accuracy                           0.87     19423\n",
      "   macro avg       0.87      0.87      0.87     19423\n",
      "weighted avg       0.87      0.87      0.87     19423\n",
      "\n"
     ]
    }
   ],
   "source": [
    "y_pred = clf.predict(X_test)\n",
    "print(classification_report(y_test, y_pred))"
   ]
  },
  {
   "cell_type": "markdown",
   "metadata": {},
   "source": [
    "# Task 3. Train a Decision Tree\n",
    "Train a Decision Tree (DecisionTreeClassifier in scikit-learn) that predicts the target.\n",
    "\n",
    "Optimise the model’s quality of fit by tuning its min_samples_leaf hyperparameter. \n",
    "Justify  the selection of the candidate values for the hyperparameter and describe how you \n",
    "identified its optimal value.\n",
    "\n",
    "Assess the model’s quality of fit (bias/variance)."
   ]
  },
  {
   "cell_type": "code",
   "execution_count": 12,
   "metadata": {},
   "outputs": [],
   "source": [
    "from sklearn.tree import DecisionTreeClassifier"
   ]
  },
  {
   "cell_type": "code",
   "execution_count": 13,
   "metadata": {},
   "outputs": [
    {
     "data": {
      "text/plain": [
       "DecisionTreeClassifier(min_samples_leaf=5)"
      ]
     },
     "execution_count": 13,
     "metadata": {},
     "output_type": "execute_result"
    }
   ],
   "source": [
    "tree_clf = DecisionTreeClassifier(min_samples_leaf=5)\n",
    "tree_clf.fit(X_train, y_train)"
   ]
  },
  {
   "cell_type": "code",
   "execution_count": 14,
   "metadata": {},
   "outputs": [
    {
     "name": "stdout",
     "output_type": "stream",
     "text": [
      "              precision    recall  f1-score   support\n",
      "\n",
      "           0       0.95      0.96      0.96     10961\n",
      "           1       0.94      0.94      0.94      8462\n",
      "\n",
      "    accuracy                           0.95     19423\n",
      "   macro avg       0.95      0.95      0.95     19423\n",
      "weighted avg       0.95      0.95      0.95     19423\n",
      "\n"
     ]
    }
   ],
   "source": [
    "y_pred = tree_clf.predict(X_test)\n",
    "print(classification_report(y_test, y_pred))"
   ]
  },
  {
   "cell_type": "markdown",
   "metadata": {},
   "source": [
    "# Task 4. Train a Feed-Forward Neural Net\n",
    "Train a Feed-Forward neural network that predicts the target. Use Tensorflow/Keras.\n",
    "\n",
    "You will define your own network architecture. Use only Dense layers, only ReLU activation\n",
    "functions in the hidden layers, and a single output unit with sigmoid activation function in \n",
    "the output layer. Use binary_crossentropy as the loss function.\n",
    "\n",
    "Aim to develop the simplest (fewest layers/units) that predicts no worse than the decision \n",
    "tree classifier created in Task 3.\n",
    "\n",
    "Remember that normalisation of the input data can have a significant impact on the \n",
    "performance of a neural net model.\n",
    "\n",
    "Describe the process and decisions that you have employed to arrive at the final neural net \n",
    "architecture. Justify the selection of the number of hidden layers and units per layer and \n",
    "explain the (iterative) process that you have followed while optimising the neural net. \n",
    "Explain how you have chosen the values for any hyperparameters that you may have set \n",
    "(such as batch size, number of epochs, learning rate).\n",
    "Assess the model’s quality of fit (bias/variance)."
   ]
  },
  {
   "cell_type": "code",
   "execution_count": 15,
   "metadata": {},
   "outputs": [
    {
     "name": "stderr",
     "output_type": "stream",
     "text": [
      "Using TensorFlow backend.\n"
     ]
    }
   ],
   "source": [
    "import tensorflow as tf\n",
    "import keras\n",
    "from keras.models import Sequential\n",
    "from keras.layers import Dense\n",
    "from keras import optimizers"
   ]
  },
  {
   "cell_type": "code",
   "execution_count": 16,
   "metadata": {},
   "outputs": [],
   "source": [
    "def process_y(y):\n",
    "    new_y = []\n",
    "    for i in y:\n",
    "        if i == 0:\n",
    "            item = [1, 0]\n",
    "        else:\n",
    "            item = [0, 1]\n",
    "        new_y.append(item)\n",
    "    return np.array(new_y)\n",
    "train_y = process_y(y_train)\n",
    "test_y = process_y(y_test)\n",
    "valid_y = process_y(y_valid)"
   ]
  },
  {
   "cell_type": "code",
   "execution_count": 17,
   "metadata": {},
   "outputs": [],
   "source": [
    "model = Sequential()\n",
    "model.add(Dense(256, input_shape=(X.shape[1],), activation=\"relu\"))\n",
    "model.add(Dense(128, activation=\"relu\"))\n",
    "model.add(Dense(2, activation=\"sigmoid\"))\n",
    "model.compile(loss='binary_crossentropy', optimizer='adam', metrics=['accuracy'])"
   ]
  },
  {
   "cell_type": "code",
   "execution_count": null,
   "metadata": {},
   "outputs": [
    {
     "name": "stdout",
     "output_type": "stream",
     "text": [
      "Train on 90640 samples, validate on 19424 samples\n",
      "Epoch 1/32\n",
      "90640/90640 [==============================] - 3s 38us/step - loss: 1.6612 - accuracy: 0.6731 - val_loss: 0.9608 - val_accuracy: 0.7190\n",
      "Epoch 2/32\n",
      "90640/90640 [==============================] - 3s 32us/step - loss: 0.6739 - accuracy: 0.7690 - val_loss: 0.7956 - val_accuracy: 0.6898\n",
      "Epoch 3/32\n",
      "90640/90640 [==============================] - 4s 40us/step - loss: 0.4813 - accuracy: 0.8095 - val_loss: 0.4073 - val_accuracy: 0.8337\n",
      "Epoch 4/32\n",
      "90640/90640 [==============================] - 3s 37us/step - loss: 0.3838 - accuracy: 0.8420 - val_loss: 0.3571 - val_accuracy: 0.8450\n",
      "Epoch 5/32\n",
      "90640/90640 [==============================] - 3s 38us/step - loss: 0.3234 - accuracy: 0.8635 - val_loss: 0.2701 - val_accuracy: 0.8874\n",
      "Epoch 6/32\n",
      "90640/90640 [==============================] - 3s 31us/step - loss: 0.2769 - accuracy: 0.8835 - val_loss: 0.2561 - val_accuracy: 0.8985\n",
      "Epoch 7/32\n",
      "90640/90640 [==============================] - 3s 34us/step - loss: 0.2520 - accuracy: 0.8931 - val_loss: 0.2258 - val_accuracy: 0.9052\n",
      "Epoch 8/32\n",
      "90640/90640 [==============================] - 3s 31us/step - loss: 0.2364 - accuracy: 0.9003 - val_loss: 0.2329 - val_accuracy: 0.8999\n",
      "Epoch 9/32\n",
      "90640/90640 [==============================] - 3s 36us/step - loss: 0.2157 - accuracy: 0.9090 - val_loss: 0.2307 - val_accuracy: 0.9069\n",
      "Epoch 10/32\n",
      "90640/90640 [==============================] - 3s 34us/step - loss: 0.2101 - accuracy: 0.9115 - val_loss: 0.1849 - val_accuracy: 0.9241\n",
      "Epoch 11/32\n",
      "90640/90640 [==============================] - 3s 35us/step - loss: 0.2065 - accuracy: 0.9139 - val_loss: 0.2196 - val_accuracy: 0.9086\n",
      "Epoch 12/32\n",
      "90640/90640 [==============================] - 3s 36us/step - loss: 0.2001 - accuracy: 0.9154 - val_loss: 0.1960 - val_accuracy: 0.9235\n",
      "Epoch 13/32\n",
      "90640/90640 [==============================] - 4s 39us/step - loss: 0.1959 - accuracy: 0.9181 - val_loss: 0.1886 - val_accuracy: 0.9247\n",
      "Epoch 14/32\n",
      "90640/90640 [==============================] - 4s 39us/step - loss: 0.1930 - accuracy: 0.9188 - val_loss: 0.1839 - val_accuracy: 0.9240\n",
      "Epoch 15/32\n",
      "90640/90640 [==============================] - 3s 34us/step - loss: 0.1902 - accuracy: 0.9208 - val_loss: 0.1760 - val_accuracy: 0.9283\n",
      "Epoch 16/32\n",
      "90640/90640 [==============================] - 3s 33us/step - loss: 0.1934 - accuracy: 0.9197 - val_loss: 0.1819 - val_accuracy: 0.9263\n",
      "Epoch 17/32\n",
      "90640/90640 [==============================] - 3s 37us/step - loss: 0.1905 - accuracy: 0.9204 - val_loss: 0.1811 - val_accuracy: 0.9264\n",
      "Epoch 18/32\n",
      "90640/90640 [==============================] - 4s 40us/step - loss: 0.1842 - accuracy: 0.9229 - val_loss: 0.1835 - val_accuracy: 0.9241\n",
      "Epoch 19/32\n",
      "90640/90640 [==============================] - 4s 40us/step - loss: 0.1828 - accuracy: 0.9231 - val_loss: 0.1800 - val_accuracy: 0.9273\n",
      "Epoch 20/32\n",
      "90640/90640 [==============================] - 3s 35us/step - loss: 0.1799 - accuracy: 0.9241 - val_loss: 0.2138 - val_accuracy: 0.9132\n",
      "Epoch 21/32\n",
      "90640/90640 [==============================] - 3s 31us/step - loss: 0.1803 - accuracy: 0.9244 - val_loss: 0.1815 - val_accuracy: 0.9274\n",
      "Epoch 22/32\n",
      "90640/90640 [==============================] - 3s 34us/step - loss: 0.1776 - accuracy: 0.9264 - val_loss: 0.1666 - val_accuracy: 0.9328\n",
      "Epoch 23/32\n",
      "90640/90640 [==============================] - 3s 35us/step - loss: 0.1744 - accuracy: 0.9268 - val_loss: 0.1755 - val_accuracy: 0.9264\n",
      "Epoch 24/32\n",
      "37472/90640 [===========>..................] - ETA: 1s - loss: 0.1706 - accuracy: 0.9299"
     ]
    }
   ],
   "source": [
    "model.fit(X_train, train_y, batch_size=32, epochs=32, verbose=1, validation_data=(X_valid, valid_y))"
   ]
  },
  {
   "cell_type": "code",
   "execution_count": null,
   "metadata": {},
   "outputs": [],
   "source": [
    "y_pred = model.predict(X_test, batch_size=32).argmax(axis=1)\n",
    "print(classification_report(y_test, y_pred))"
   ]
  },
  {
   "cell_type": "code",
   "execution_count": null,
   "metadata": {},
   "outputs": [],
   "source": []
  }
 ],
 "metadata": {
  "kernelspec": {
   "display_name": "Python 3",
   "language": "python",
   "name": "python3"
  },
  "language_info": {
   "codemirror_mode": {
    "name": "ipython",
    "version": 3
   },
   "file_extension": ".py",
   "mimetype": "text/x-python",
   "name": "python",
   "nbconvert_exporter": "python",
   "pygments_lexer": "ipython3",
   "version": "3.7.4"
  }
 },
 "nbformat": 4,
 "nbformat_minor": 4
}
